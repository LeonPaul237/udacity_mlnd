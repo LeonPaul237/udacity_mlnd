{
 "cells": [
  {
   "cell_type": "code",
   "execution_count": 80,
   "metadata": {
    "collapsed": false
   },
   "outputs": [
    {
     "name": "stdout",
     "output_type": "stream",
     "text": [
      "in\n"
     ]
    }
   ],
   "source": [
    "sample_memo = '''\n",
    "Milt, we're gonna need to go ahead and move you downstairs into storage B. We have some new people coming in, and we need all the space we can get. So if you could just go ahead and pack up your stuff and move it down there, that would be terrific, OK?\n",
    "Oh, and remember: next Friday... is Hawaiian shirt day. So, you know, if you want to, go ahead and wear a Hawaiian shirt and jeans.\n",
    "Oh, oh, and I almost forgot. Ahh, I'm also gonna need you to go ahead and come in on Sunday, too...\n",
    "Hello Peter, whats happening? Ummm, I'm gonna need you to go ahead and come in tomorrow. So if you could be here around 9 that would be great, mmmk... oh oh! and I almost forgot ahh, I'm also gonna need you to go ahead and come in on Sunday too, kay. We ahh lost some people this week and ah, we sorta need to play catch up.\n",
    "'''\n",
    "\n",
    "corrupted_memo = '''\n",
    "Yeah, I'm gonna --- you to go ahead --- --- complain about this. Oh, and if you could --- --- and sit at the kids' table, that'd be --- \n",
    "'''\n",
    "\n",
    "data_list = sample_memo.strip().split()\n",
    "\n",
    "words_to_guess = [\"ahead\",\"could\"]\n",
    "\n",
    "def NextWordProbability(sampletext,word):\n",
    "    import string\n",
    "    from collections import defaultdict\n",
    "    \n",
    "    table = string.maketrans(\"\",\"\")\n",
    "    sans_punctuation = sampletext.translate(table, string.punctuation).split()\n",
    "    \n",
    "    wordCounts = defaultdict(int)\n",
    "    wordCount = 0\n",
    "    \n",
    "    for i in range(1, len(sans_punctuation)):\n",
    "        if sans_punctuation[i-1] == word:\n",
    "            wordCount += 1\n",
    "            wordCounts[sans_punctuation[i]] += 1\n",
    "    \n",
    "    return dict([(k,v*1.0 / wordCount) for k,v in wordCounts.items()])\n",
    "\n",
    "def LaterWords(sample,word,distance):\n",
    "    '''@param sample: a sample of text to draw from\n",
    "    @param word: a word occuring before a corrupted sequence\n",
    "    @param distance: how many words later to estimate (i.e. 1 for the next word, 2 for the word after that)\n",
    "    @returns: a single word which is the most likely possibility\n",
    "    '''\n",
    "    import operator\n",
    "    \n",
    "    # TODO: Given a word, collect the relative probabilities of possible following words\n",
    "    # from @sample. You may want to import your code from the maximum likelihood exercise.\n",
    "    \n",
    "    # TODO: Repeat the above process--for each distance beyond 1, evaluate the words that\n",
    "    # might come after each word, and combine them weighting by relative probability\n",
    "    # into an estimate of what might appear next.\n",
    "    \n",
    "    guesses = NextWordProbability(sample, word)\n",
    "    for i in range(1, distance):\n",
    "        nextWords = defaultdict(float)\n",
    "        for k in guesses:\n",
    "            temp = NextWordProbability(sample, k)\n",
    "            for n in temp:\n",
    "                nextWords[n] += (guesses[k] * temp[n])\n",
    "\n",
    "        guesses = nextWords\n",
    "    \n",
    "    sorted_guesses = sorted(guesses.items(), key=operator.itemgetter(1), reverse=True)\n",
    "    return sorted_guesses[0][0]\n",
    "    \n",
    "print LaterWords(sample_memo,\"and\",2)"
   ]
  },
  {
   "cell_type": "code",
   "execution_count": 78,
   "metadata": {
    "collapsed": false
   },
   "outputs": [],
   "source": [
    "import operator\n",
    "\n",
    "distance = 2\n",
    "sample = sample_memo\n",
    "word = \"and\"\n",
    "\n",
    "guesses = NextWordProbability(sample, word)\n",
    "for i in range(1, distance):\n",
    "    nextWords = defaultdict(float)\n",
    "    for k in guesses:\n",
    "        temp = NextWordProbability(sample, k)\n",
    "        for n in temp:\n",
    "            nextWords[n] += (guesses[k] * temp[n])\n",
    "            \n",
    "    guesses = nextWords\n",
    "    \n"
   ]
  },
  {
   "cell_type": "code",
   "execution_count": 79,
   "metadata": {
    "collapsed": false
   },
   "outputs": [
    {
     "data": {
      "text/plain": [
       "defaultdict(float,\n",
       "            {'Oh': 0.07692307692307693,\n",
       "             'a': 0.07692307692307693,\n",
       "             'almost': 0.15384615384615385,\n",
       "             'can': 0.02564102564102564,\n",
       "             'in': 0.23076923076923078,\n",
       "             'it': 0.07692307692307693,\n",
       "             'need': 0.02564102564102564,\n",
       "             'next': 0.07692307692307693,\n",
       "             'sorta': 0.02564102564102564,\n",
       "             'up': 0.07692307692307693,\n",
       "             'we': 0.07692307692307693,\n",
       "             'you': 0.07692307692307693})"
      ]
     },
     "execution_count": 79,
     "metadata": {},
     "output_type": "execute_result"
    }
   ],
   "source": [
    "guesses"
   ]
  },
  {
   "cell_type": "code",
   "execution_count": 69,
   "metadata": {
    "collapsed": false
   },
   "outputs": [
    {
     "data": {
      "text/plain": [
       "{'and': 1.0}"
      ]
     },
     "execution_count": 69,
     "metadata": {},
     "output_type": "execute_result"
    }
   ],
   "source": [
    "NextWordProbability(sample, \"ahead\")"
   ]
  },
  {
   "cell_type": "code",
   "execution_count": 70,
   "metadata": {
    "collapsed": false
   },
   "outputs": [
    {
     "data": {
      "text/plain": [
       "{'I': 0.15384615384615385,\n",
       " 'ah': 0.07692307692307693,\n",
       " 'come': 0.23076923076923078,\n",
       " 'jeans': 0.07692307692307693,\n",
       " 'move': 0.15384615384615385,\n",
       " 'pack': 0.07692307692307693,\n",
       " 'remember': 0.07692307692307693,\n",
       " 'we': 0.07692307692307693,\n",
       " 'wear': 0.07692307692307693}"
      ]
     },
     "execution_count": 70,
     "metadata": {},
     "output_type": "execute_result"
    }
   ],
   "source": [
    "NextWordProbability(sample, \"and\")"
   ]
  },
  {
   "cell_type": "code",
   "execution_count": 71,
   "metadata": {
    "collapsed": false
   },
   "outputs": [
    {
     "data": {
      "text/plain": [
       "{'be': 0.5, 'just': 0.5}"
      ]
     },
     "execution_count": 71,
     "metadata": {},
     "output_type": "execute_result"
    }
   ],
   "source": [
    "NextWordProbability(sample, \"could\")"
   ]
  },
  {
   "cell_type": "code",
   "execution_count": 72,
   "metadata": {
    "collapsed": false
   },
   "outputs": [
    {
     "data": {
      "text/plain": [
       "{'great': 0.3333333333333333,\n",
       " 'here': 0.3333333333333333,\n",
       " 'terrific': 0.3333333333333333}"
      ]
     },
     "execution_count": 72,
     "metadata": {},
     "output_type": "execute_result"
    }
   ],
   "source": [
    "NextWordProbability(sample, \"be\")"
   ]
  },
  {
   "cell_type": "code",
   "execution_count": 73,
   "metadata": {
    "collapsed": false
   },
   "outputs": [
    {
     "data": {
      "text/plain": [
       "{'go': 1.0}"
      ]
     },
     "execution_count": 73,
     "metadata": {},
     "output_type": "execute_result"
    }
   ],
   "source": [
    "NextWordProbability(sample, \"just\")"
   ]
  },
  {
   "cell_type": "code",
   "execution_count": null,
   "metadata": {
    "collapsed": true
   },
   "outputs": [],
   "source": []
  }
 ],
 "metadata": {
  "kernelspec": {
   "display_name": "Python 2",
   "language": "python",
   "name": "python2"
  },
  "language_info": {
   "codemirror_mode": {
    "name": "ipython",
    "version": 2
   },
   "file_extension": ".py",
   "mimetype": "text/x-python",
   "name": "python",
   "nbconvert_exporter": "python",
   "pygments_lexer": "ipython2",
   "version": "2.7.11"
  }
 },
 "nbformat": 4,
 "nbformat_minor": 0
}
